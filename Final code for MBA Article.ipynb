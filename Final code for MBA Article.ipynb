{
 "cells": [
  {
   "cell_type": "code",
   "execution_count": 1,
   "id": "4eb09c23-7b9d-45c5-b33c-ce580e1665ca",
   "metadata": {},
   "outputs": [
    {
     "name": "stdout",
     "output_type": "stream",
     "text": [
      "Requirement already satisfied: apyori in c:\\users\\dell\\anaconda3\\lib\\site-packages (1.1.2)\n",
      "Note: you may need to restart the kernel to use updated packages.\n"
     ]
    }
   ],
   "source": [
    "pip install apyori"
   ]
  },
  {
   "cell_type": "code",
   "execution_count": 15,
   "id": "5e7ab7fa-6f6f-442a-9493-98e4839ec3c2",
   "metadata": {},
   "outputs": [
    {
     "data": {
      "text/html": [
       "<div>\n",
       "<style scoped>\n",
       "    .dataframe tbody tr th:only-of-type {\n",
       "        vertical-align: middle;\n",
       "    }\n",
       "\n",
       "    .dataframe tbody tr th {\n",
       "        vertical-align: top;\n",
       "    }\n",
       "\n",
       "    .dataframe thead th {\n",
       "        text-align: right;\n",
       "    }\n",
       "</style>\n",
       "<table border=\"1\" class=\"dataframe\">\n",
       "  <thead>\n",
       "    <tr style=\"text-align: right;\">\n",
       "      <th></th>\n",
       "      <th>Product X</th>\n",
       "      <th>Product Y</th>\n",
       "      <th>Support</th>\n",
       "      <th>Confidence</th>\n",
       "      <th>Lift</th>\n",
       "    </tr>\n",
       "  </thead>\n",
       "  <tbody>\n",
       "    <tr>\n",
       "      <th>0</th>\n",
       "      <td>Beer</td>\n",
       "      <td>Chips</td>\n",
       "      <td>0.1</td>\n",
       "      <td>0.500000</td>\n",
       "      <td>5.000000</td>\n",
       "    </tr>\n",
       "    <tr>\n",
       "      <th>1</th>\n",
       "      <td>Beer</td>\n",
       "      <td>Diapers</td>\n",
       "      <td>0.2</td>\n",
       "      <td>1.000000</td>\n",
       "      <td>2.500000</td>\n",
       "    </tr>\n",
       "    <tr>\n",
       "      <th>2</th>\n",
       "      <td>Butter</td>\n",
       "      <td>Eggs</td>\n",
       "      <td>0.2</td>\n",
       "      <td>0.333333</td>\n",
       "      <td>1.666667</td>\n",
       "    </tr>\n",
       "    <tr>\n",
       "      <th>3</th>\n",
       "      <td>Chips</td>\n",
       "      <td>Diapers</td>\n",
       "      <td>0.1</td>\n",
       "      <td>1.000000</td>\n",
       "      <td>2.500000</td>\n",
       "    </tr>\n",
       "  </tbody>\n",
       "</table>\n",
       "</div>"
      ],
      "text/plain": [
       "  Product X Product Y  Support  Confidence      Lift\n",
       "0      Beer     Chips      0.1    0.500000  5.000000\n",
       "1      Beer   Diapers      0.2    1.000000  2.500000\n",
       "2    Butter      Eggs      0.2    0.333333  1.666667\n",
       "3     Chips   Diapers      0.1    1.000000  2.500000"
      ]
     },
     "execution_count": 15,
     "metadata": {},
     "output_type": "execute_result"
    }
   ],
   "source": [
    "import pandas as pd\n",
    "import numpy as np\n",
    "from apyori import apriori\n",
    "\n",
    "data = [\n",
    "    [\"Bread\", \"Milk\", \"Butter\"],\n",
    "    [\"Beer\", \"Diapers\", \"Chips\"],\n",
    "    [\"Milk\", \"Diapers\", \"Bread\", \"Butter\"],\n",
    "    [\"Bread\", \"Butter\"],\n",
    "    [\"Milk\", \"Bread\", \"Butter\"],\n",
    "    [\"Beer\", \"Diapers\"],\n",
    "    [\"Bread\", \"Milk\", \"Butter\", \"Eggs\"],\n",
    "    [\"Bread\", \"Milk\"],\n",
    "    [\"Bread\", \"Butter\", \"Eggs\"],\n",
    "    [\"Bread\", \"Milk\", \"Diapers\"],\n",
    "]\n",
    "\n",
    "rules=apriori(transactions=data,min_support=0.03,min_confidence=0.06,min_lift=1.5,min_length=2,max_length=4)\n",
    "results=list(rules)\n",
    "\n",
    "def inspect(results):\n",
    "    lhs=[tuple(result[2][0][0])[0] for result in results]\n",
    "    rhs=[tuple(result[2][0][1])[0] for result in results]\n",
    "    supports=[result[1] for result in results]\n",
    "    confidences=[result[2][0][2] for result in results]\n",
    "    lifts=[result[2][0][3] for result in results]\n",
    "\n",
    "    return list(zip(lhs,rhs,supports,confidences,lifts))\n",
    "\n",
    "result=pd.DataFrame(inspect(results),columns=['Product X','Product Y','Support','Confidence','Lift'])\n",
    "result.head(4)"
   ]
  }
 ],
 "metadata": {
  "kernelspec": {
   "display_name": "Python 3 (ipykernel)",
   "language": "python",
   "name": "python3"
  },
  "language_info": {
   "codemirror_mode": {
    "name": "ipython",
    "version": 3
   },
   "file_extension": ".py",
   "mimetype": "text/x-python",
   "name": "python",
   "nbconvert_exporter": "python",
   "pygments_lexer": "ipython3",
   "version": "3.12.4"
  }
 },
 "nbformat": 4,
 "nbformat_minor": 5
}
